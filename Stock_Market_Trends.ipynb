{
 "cells": [
  {
   "cell_type": "code",
   "execution_count": null,
   "id": "71a3f276-6e2b-48cf-9f0e-c02d36e3bef2",
   "metadata": {},
   "outputs": [],
   "source": [
    "import pandas as pd"
   ]
  },
  {
   "cell_type": "code",
   "execution_count": null,
   "id": "221397f6-c184-4557-83ce-a6028186023a",
   "metadata": {},
   "outputs": [],
   "source": [
    "apple = pd.read_csv('/Users/ebeato/Downloads/AAPL.csv')\n",
    "facebook = pd.read_csv('/Users/ebeato/Downloads/FB.csv')\n",
    "google = pd.read_csv('/Users/ebeato/Downloads/GOOGL.csv')\n",
    "nvidia = pd.read_csv('/Users/ebeato/Downloads/NVDA.csv')\n",
    "tesla = pd.read_csv('/Users/ebeato/Downloads/TSLA.csv')\n",
    "twitter = pd.read_csv('/Users/ebeato/Downloads/TWTR.csv')"
   ]
  },
  {
   "cell_type": "code",
   "execution_count": 22,
   "id": "944f84a1-3309-4de1-bc9c-4cf3859de563",
   "metadata": {},
   "outputs": [],
   "source": [
    "dfs = [apple, facebook, google, nvidia, tesla, twitter]"
   ]
  },
  {
   "cell_type": "code",
   "execution_count": 23,
   "id": "8d67c1e8-e700-47a2-b2f8-04fd15854550",
   "metadata": {},
   "outputs": [],
   "source": [
    "for df in dfs:\n",
    "    df['MA50'] = df.Close.rolling(50).mean()\n",
    "    df['MA200'] = df.Close.rolling(200).mean()"
   ]
  },
  {
   "cell_type": "code",
   "execution_count": 24,
   "id": "2170be23-eee9-4923-9dfd-27bbf2cca94c",
   "metadata": {},
   "outputs": [],
   "source": [
    "for df in dfs:\n",
    "    df['Previous day close price'] = df.Close.shift(1)"
   ]
  },
  {
   "cell_type": "code",
   "execution_count": 25,
   "id": "566ea42c-b680-40d5-a76d-032d74501389",
   "metadata": {},
   "outputs": [],
   "source": [
    "for df in dfs:\n",
    "    df['Change in price'] = df['Close'] - df['Previous day close price']"
   ]
  },
  {
   "cell_type": "code",
   "execution_count": 26,
   "id": "01af6d6c-cf2e-403c-bb78-3e1eac27ed89",
   "metadata": {},
   "outputs": [],
   "source": [
    "for df in dfs:\n",
    "    df['Percent change in price'] = df.Close.pct_change(fill_method=None)"
   ]
  },
  {
   "cell_type": "code",
   "execution_count": 27,
   "id": "95300677-053c-450f-a83c-b2b25eb03b00",
   "metadata": {},
   "outputs": [],
   "source": [
    "for df in dfs:\n",
    "    df['Previous day volume'] = df.Volume.shift(1)"
   ]
  },
  {
   "cell_type": "code",
   "execution_count": 28,
   "id": "c21d3994-8274-4e78-bd5c-c72966f681d6",
   "metadata": {},
   "outputs": [],
   "source": [
    "for df in dfs:\n",
    "    df['Change in volume'] = df['Volume'] - df['Previous day volume']"
   ]
  },
  {
   "cell_type": "code",
   "execution_count": 29,
   "id": "b777a2fe-dce2-4476-bfb1-0fb2bda48921",
   "metadata": {},
   "outputs": [],
   "source": [
    "for df in dfs:\n",
    "    df['Percent change in volume'] = df.Volume.pct_change(fill_method=None)"
   ]
  },
  {
   "cell_type": "code",
   "execution_count": 30,
   "id": "4e791ada-dc4c-4d69-a8e5-15d40fcacf6c",
   "metadata": {},
   "outputs": [],
   "source": [
    "apple.to_csv('Apple.csv')\n",
    "facebook.to_csv('Facebook.csv')\n",
    "google.to_csv('Google.csv')\n",
    "nvidia.to_csv('Nvidia.csv')\n",
    "tesla.to_csv('Tesla.csv')\n",
    "twitter.to_csv('Twitter.csv')"
   ]
  },
  {
   "cell_type": "code",
   "execution_count": null,
   "id": "2fd2d2d3-ef3e-4e65-a6dc-4a127e39d08e",
   "metadata": {},
   "outputs": [],
   "source": []
  }
 ],
 "metadata": {
  "kernelspec": {
   "display_name": "Python 3 (ipykernel)",
   "language": "python",
   "name": "python3"
  },
  "language_info": {
   "codemirror_mode": {
    "name": "ipython",
    "version": 3
   },
   "file_extension": ".py",
   "mimetype": "text/x-python",
   "name": "python",
   "nbconvert_exporter": "python",
   "pygments_lexer": "ipython3",
   "version": "3.12.5"
  }
 },
 "nbformat": 4,
 "nbformat_minor": 5
}
